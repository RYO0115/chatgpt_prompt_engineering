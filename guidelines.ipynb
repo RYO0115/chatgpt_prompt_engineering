{
 "cells": [
  {
   "attachments": {},
   "cell_type": "markdown",
   "metadata": {},
   "source": [
    "# Guidelines for Prompting\n",
    "[video link](https://learn.deeplearning.ai/chatgpt-prompt-eng/lesson/2/guidelines)\n",
    "\n",
    "各種openaiライブラリの使用方法とそのAPIの使い方などのガイドライン\n",
    "\n"
   ]
  },
  {
   "attachments": {},
   "cell_type": "markdown",
   "metadata": {},
   "source": [
    "### 個人メモ\n",
    "\n",
    "pipenv での仮想環境構築方法\n",
    "\n",
    "    export PIPENV_VENV_IN_PROJECT=true\n",
    "\n",
    "    pipenv sync"
   ]
  },
  {
   "attachments": {},
   "cell_type": "markdown",
   "metadata": {},
   "source": [
    "## Open AIライブラリのインストール\n",
    "\n",
    "もしOpenAIのライブラリをインストールしていなければpip(またはpipenv)でインストール"
   ]
  },
  {
   "cell_type": "code",
   "execution_count": null,
   "metadata": {},
   "outputs": [
    {
     "ename": "",
     "evalue": "",
     "output_type": "error",
     "traceback": [
      "\u001b[1;31mRunning cells with '/usr/bin/python3' requires the ipykernel package.\n",
      "\u001b[1;31mRun the following command to install 'ipykernel' into the Python environment. \n",
      "\u001b[1;31mCommand: '/usr/bin/python3 -m pip install ipykernel -U --user --force-reinstall'"
     ]
    }
   ],
   "source": [
    "\n",
    "#!pip install openai"
   ]
  },
  {
   "attachments": {},
   "cell_type": "markdown",
   "metadata": {},
   "source": [
    "## API Key\n",
    "OpenAIのAPI Keyが必要なため、それをセット\n",
    "\n",
    "取得方法は以下の通り\n",
    "\n",
    "[このリンク](https://platform.openai.com/account/api-keys)にアクセスし、API Keyを取得。\n",
    "\n",
    "もしOpenAIのアカウントが無ければ、Googleアカウントで簡単に作れるので作成してください。\n",
    "\n",
    "取得したAPI Keyはapi_key.txtというファイル内にコピーしてもらえれば、下のセルで自動的に読み込みに行きます。\n"
   ]
  },
  {
   "cell_type": "code",
   "execution_count": 1,
   "metadata": {},
   "outputs": [],
   "source": [
    "f = open(\"api_key.txt\", \"r\")\n",
    "api_key = f.read()\n",
    "#api_key"
   ]
  },
  {
   "cell_type": "code",
   "execution_count": 2,
   "metadata": {},
   "outputs": [],
   "source": [
    "import openai\n",
    "openai.api_key=api_key"
   ]
  },
  {
   "cell_type": "code",
   "execution_count": 3,
   "metadata": {},
   "outputs": [],
   "source": [
    "import openai\n",
    "import os\n",
    "import dotenv\n"
   ]
  },
  {
   "cell_type": "code",
   "execution_count": null,
   "metadata": {},
   "outputs": [],
   "source": []
  }
 ],
 "metadata": {
  "kernelspec": {
   "display_name": "Python 3",
   "language": "python",
   "name": "python3"
  },
  "language_info": {
   "codemirror_mode": {
    "name": "ipython",
    "version": 3
   },
   "file_extension": ".py",
   "mimetype": "text/x-python",
   "name": "python",
   "nbconvert_exporter": "python",
   "pygments_lexer": "ipython3",
   "version": "3.11.3"
  },
  "orig_nbformat": 4
 },
 "nbformat": 4,
 "nbformat_minor": 2
}
